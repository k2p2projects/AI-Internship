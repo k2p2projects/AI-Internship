{
 "cells": [
  {
   "cell_type": "code",
   "execution_count": 27,
   "id": "51ee15ae-8d4d-45a5-9615-6bc227b7953b",
   "metadata": {},
   "outputs": [],
   "source": [
    "import torch\n",
    "from transformers import GPT2LMHeadModel, GPT2Tokenizer"
   ]
  },
  {
   "cell_type": "code",
   "execution_count": 28,
   "id": "90f35750-ba00-4a8f-9cd6-9462bc71ee45",
   "metadata": {},
   "outputs": [],
   "source": [
    "model_name = \"gpt2\"  \n",
    "model = GPT2LMHeadModel.from_pretrained(model_name)\n",
    "tokenizer = GPT2Tokenizer.from_pretrained(model_name)"
   ]
  },
  {
   "cell_type": "code",
   "execution_count": 36,
   "id": "dc382c27-4560-483e-8ddf-f26b74e5f5c2",
   "metadata": {},
   "outputs": [],
   "source": [
    "if tokenizer.pad_token is None:\n",
    "    tokenizer.add_special_tokens({'pad_token': '[PAD]'})\n",
    "    model.resize_token_embeddings(len(tokenizer), mean_resizing=False) "
   ]
  },
  {
   "cell_type": "code",
   "execution_count": 30,
   "id": "dc6ced60-d108-4010-bcb8-512f92cd42b9",
   "metadata": {},
   "outputs": [
    {
     "data": {
      "text/plain": [
       "GPT2LMHeadModel(\n",
       "  (transformer): GPT2Model(\n",
       "    (wte): Embedding(50258, 768)\n",
       "    (wpe): Embedding(1024, 768)\n",
       "    (drop): Dropout(p=0.1, inplace=False)\n",
       "    (h): ModuleList(\n",
       "      (0-11): 12 x GPT2Block(\n",
       "        (ln_1): LayerNorm((768,), eps=1e-05, elementwise_affine=True)\n",
       "        (attn): GPT2SdpaAttention(\n",
       "          (c_attn): Conv1D(nf=2304, nx=768)\n",
       "          (c_proj): Conv1D(nf=768, nx=768)\n",
       "          (attn_dropout): Dropout(p=0.1, inplace=False)\n",
       "          (resid_dropout): Dropout(p=0.1, inplace=False)\n",
       "        )\n",
       "        (ln_2): LayerNorm((768,), eps=1e-05, elementwise_affine=True)\n",
       "        (mlp): GPT2MLP(\n",
       "          (c_fc): Conv1D(nf=3072, nx=768)\n",
       "          (c_proj): Conv1D(nf=768, nx=3072)\n",
       "          (act): NewGELUActivation()\n",
       "          (dropout): Dropout(p=0.1, inplace=False)\n",
       "        )\n",
       "      )\n",
       "    )\n",
       "    (ln_f): LayerNorm((768,), eps=1e-05, elementwise_affine=True)\n",
       "  )\n",
       "  (lm_head): Linear(in_features=768, out_features=50258, bias=False)\n",
       ")"
      ]
     },
     "execution_count": 30,
     "metadata": {},
     "output_type": "execute_result"
    }
   ],
   "source": [
    "model.eval()"
   ]
  },
  {
   "cell_type": "code",
   "execution_count": 31,
   "id": "76fa9c44-35dd-45a9-8c9a-18d2aca2918e",
   "metadata": {},
   "outputs": [],
   "source": [
    "def generate_text(prompt, max_length=100, temperature=0.7):\n",
    "    # Tokenize input prompt\n",
    "    inputs = tokenizer(prompt, return_tensors=\"pt\", padding=True, truncation=True)\n",
    "    # Generate text\n",
    "    outputs = model.generate(\n",
    "        inputs.input_ids,\n",
    "        attention_mask=inputs.attention_mask,  # Pass attention mask\n",
    "        max_length=max_length,\n",
    "        num_return_sequences=1,\n",
    "        temperature=temperature,\n",
    "        top_k=50,\n",
    "        top_p=0.95,\n",
    "        do_sample=True,\n",
    "        pad_token_id=tokenizer.pad_token_id  # Set pad token ID\n",
    "    )\n",
    "    return tokenizer.decode(outputs[0], skip_special_tokens=True)"
   ]
  },
  {
   "cell_type": "code",
   "execution_count": 32,
   "id": "de4a8984-dbd0-44aa-8c16-614fe59a4a89",
   "metadata": {},
   "outputs": [
    {
     "name": "stdin",
     "output_type": "stream",
     "text": [
      "Enter your prompt:  What is AI?\n"
     ]
    }
   ],
   "source": [
    "user_prompt = input(\"Enter your prompt: \")"
   ]
  },
  {
   "cell_type": "code",
   "execution_count": 34,
   "id": "b2fcc021-406e-4c7b-889b-90815e6f9759",
   "metadata": {},
   "outputs": [],
   "source": [
    "generated_text = generate_text(user_prompt, max_length=150)"
   ]
  },
  {
   "cell_type": "code",
   "execution_count": 35,
   "id": "28952522-86e4-467d-a95c-1965832a6516",
   "metadata": {},
   "outputs": [
    {
     "name": "stdout",
     "output_type": "stream",
     "text": [
      "\n",
      "Generated Text:\n",
      "\n",
      "What is AI?\n",
      "\n",
      "AI is a technology that allows human beings to create, control and manipulate robots, robots, robots, robots. The technology is based on the idea that humans are created from information (information that exists in a natural world) and that information is a physical reality. However, it is not an exact science, and a little bit of science is good.\n",
      "\n",
      "A lot of things about AI are not true. For example, the concept of \"superintelligence\" is not a scientific concept. In fact, it is a concept that is commonly believed to be false.\n",
      "\n",
      "The concept of \"superintelligence\" is not a scientific concept. In fact, it is a concept that is commonly believed to be false.\n",
      "\n"
     ]
    }
   ],
   "source": [
    "print(\"\\nGenerated Text:\\n\")\n",
    "print(generated_text)"
   ]
  }
 ],
 "metadata": {
  "kernelspec": {
   "display_name": "Python (transformers_env)",
   "language": "python",
   "name": "transformers_env"
  },
  "language_info": {
   "codemirror_mode": {
    "name": "ipython",
    "version": 3
   },
   "file_extension": ".py",
   "mimetype": "text/x-python",
   "name": "python",
   "nbconvert_exporter": "python",
   "pygments_lexer": "ipython3",
   "version": "3.9.21"
  }
 },
 "nbformat": 4,
 "nbformat_minor": 5
}
