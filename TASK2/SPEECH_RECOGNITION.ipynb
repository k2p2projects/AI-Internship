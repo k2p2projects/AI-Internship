{
 "cells": [
  {
   "cell_type": "markdown",
   "id": "23b4b05a-bce0-41eb-b970-0c7bfc7ee984",
   "metadata": {},
   "source": [
    "# SPEECH RECOGNITION SYSTEM"
   ]
  },
  {
   "cell_type": "code",
   "execution_count": 3,
   "id": "18fcb659-5453-4a55-af4e-0828bdcea2da",
   "metadata": {},
   "outputs": [],
   "source": [
    "from transformers import Wav2Vec2ForCTC, Wav2Vec2Processor\n",
    "import torch\n",
    "import librosa"
   ]
  },
  {
   "cell_type": "code",
   "execution_count": 4,
   "id": "93ed27c0-e7bc-4c0f-9e57-61d3323bc788",
   "metadata": {},
   "outputs": [],
   "source": [
    "def transcribe_with_punctuation(audio_path):\n",
    "    # Load the Wav2Vec2 model and processor\n",
    "    processor = Wav2Vec2Processor.from_pretrained(\"facebook/wav2vec2-large-960h\")\n",
    "    model = Wav2Vec2ForCTC.from_pretrained(\"facebook/wav2vec2-large-960h\")\n",
    "    \n",
    "    # Load the audio file\n",
    "    audio, rate = librosa.load(audio_path, sr=16000)\n",
    "    \n",
    "    # Process the audio and perform transcription\n",
    "    inputs = processor(audio, sampling_rate=rate, return_tensors=\"pt\", padding=True)\n",
    "    \n",
    "    with torch.no_grad():\n",
    "        logits = model(inputs.input_values).logits\n",
    "    \n",
    "    # Get the predicted transcription\n",
    "    predicted_ids = torch.argmax(logits, dim=-1)\n",
    "    transcription = processor.decode(predicted_ids[0], skip_special_tokens=True)\n",
    "    \n",
    "    return transcription"
   ]
  },
  {
   "cell_type": "code",
   "execution_count": 5,
   "id": "cf1bc278-270e-4079-ab47-0a9d039c300d",
   "metadata": {},
   "outputs": [
    {
     "data": {
      "application/vnd.jupyter.widget-view+json": {
       "model_id": "e555380be8c44b479bbae860b77a3e1e",
       "version_major": 2,
       "version_minor": 0
      },
      "text/plain": [
       "pytorch_model.bin:  58%|#####8    | 734M/1.26G [00:00<?, ?B/s]"
      ]
     },
     "metadata": {},
     "output_type": "display_data"
    },
    {
     "name": "stderr",
     "output_type": "stream",
     "text": [
      "C:\\Users\\kanch\\anaconda3\\envs\\transformers_env\\lib\\site-packages\\huggingface_hub\\file_download.py:140: UserWarning: `huggingface_hub` cache-system uses symlinks by default to efficiently store duplicated files but your machine does not support them in C:\\Users\\kanch\\.cache\\huggingface\\hub\\models--facebook--wav2vec2-large-960h. Caching files will still work but in a degraded version that might require more space on your disk. This warning can be disabled by setting the `HF_HUB_DISABLE_SYMLINKS_WARNING` environment variable. For more details, see https://huggingface.co/docs/huggingface_hub/how-to-cache#limitations.\n",
      "To support symlinks on Windows, you either need to activate Developer Mode or to run Python as an administrator. In order to activate developer mode, see this article: https://docs.microsoft.com/en-us/windows/apps/get-started/enable-your-device-for-development\n",
      "  warnings.warn(message)\n",
      "Some weights of Wav2Vec2ForCTC were not initialized from the model checkpoint at facebook/wav2vec2-large-960h and are newly initialized: ['wav2vec2.masked_spec_embed']\n",
      "You should probably TRAIN this model on a down-stream task to be able to use it for predictions and inference.\n"
     ]
    },
    {
     "name": "stdout",
     "output_type": "stream",
     "text": [
      "NATURAL LANGUAGE PROCESING OVER THE MEANING OF ENILPI IS NATURAL LANGUAGE PROCESING WHICH IS FASCINATING AND RAPIDLY EVOLVING FIELD THAT INTERSECTS COMPUTER SCIENCE ARTIFICIAL INTELIGENCE AND LINGUISTICS\n"
     ]
    }
   ],
   "source": [
    "file_path = r\"C:\\Users\\kanch\\Task2\\Speech_audio.wav\"\n",
    "print(transcribe_with_punctuation(file_path))"
   ]
  },
  {
   "cell_type": "code",
   "execution_count": null,
   "id": "94b42de8-a5bb-41f3-a6e9-918ec3c1943f",
   "metadata": {},
   "outputs": [],
   "source": []
  }
 ],
 "metadata": {
  "kernelspec": {
   "display_name": "Python (transformers_env)",
   "language": "python",
   "name": "transformers_env"
  },
  "language_info": {
   "codemirror_mode": {
    "name": "ipython",
    "version": 3
   },
   "file_extension": ".py",
   "mimetype": "text/x-python",
   "name": "python",
   "nbconvert_exporter": "python",
   "pygments_lexer": "ipython3",
   "version": "3.9.21"
  }
 },
 "nbformat": 4,
 "nbformat_minor": 5
}
