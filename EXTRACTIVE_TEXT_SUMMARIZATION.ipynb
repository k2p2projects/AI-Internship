{
 "cells": [
  {
   "cell_type": "markdown",
   "id": "9b07a77b",
   "metadata": {},
   "source": [
    "#  EXTRACTIVE TEXT SUMMARIZATION "
   ]
  },
  {
   "cell_type": "code",
   "execution_count": 43,
   "id": "81126a54",
   "metadata": {},
   "outputs": [],
   "source": [
    "text=\"\"\"Natural language processing (NLP) is a field of computer science and a subfield of artificial intelligence that aims to make computers understand human language. NLP uses computational linguistics, which is the study of how language works, and various models based on statistics, machine learning, and deep learning. These technologies allow computers to analyze and process text or voice data, and to grasp their full meaning, including the speaker’s or writer’s intentions and emotions.\n",
    "NLP powers many applications that use language, such as text translation, voice recognition, text summarization, and chatbots. You may have used some of these applications yourself, such as voice-operated GPS systems, digital assistants, speech-to-text software, and customer service bots. NLP also helps businesses improve their efficiency, productivity, and performance by simplifying complex tasks that involve language.\"\"\""
   ]
  },
  {
   "cell_type": "code",
   "execution_count": 45,
   "id": "91db28a3",
   "metadata": {},
   "outputs": [],
   "source": [
    "import spacy\n",
    "from spacy.lang.en.stop_words import STOP_WORDS\n",
    "from string import punctuation"
   ]
  },
  {
   "cell_type": "code",
   "execution_count": 47,
   "id": "e1defd5a-5461-4f44-afa7-50eb4156d218",
   "metadata": {},
   "outputs": [
    {
     "data": {
      "text/plain": [
       "{\"'d\",\n",
       " \"'ll\",\n",
       " \"'m\",\n",
       " \"'re\",\n",
       " \"'s\",\n",
       " \"'ve\",\n",
       " 'a',\n",
       " 'about',\n",
       " 'above',\n",
       " 'across',\n",
       " 'after',\n",
       " 'afterwards',\n",
       " 'again',\n",
       " 'against',\n",
       " 'all',\n",
       " 'almost',\n",
       " 'alone',\n",
       " 'along',\n",
       " 'already',\n",
       " 'also',\n",
       " 'although',\n",
       " 'always',\n",
       " 'am',\n",
       " 'among',\n",
       " 'amongst',\n",
       " 'amount',\n",
       " 'an',\n",
       " 'and',\n",
       " 'another',\n",
       " 'any',\n",
       " 'anyhow',\n",
       " 'anyone',\n",
       " 'anything',\n",
       " 'anyway',\n",
       " 'anywhere',\n",
       " 'are',\n",
       " 'around',\n",
       " 'as',\n",
       " 'at',\n",
       " 'back',\n",
       " 'be',\n",
       " 'became',\n",
       " 'because',\n",
       " 'become',\n",
       " 'becomes',\n",
       " 'becoming',\n",
       " 'been',\n",
       " 'before',\n",
       " 'beforehand',\n",
       " 'behind',\n",
       " 'being',\n",
       " 'below',\n",
       " 'beside',\n",
       " 'besides',\n",
       " 'between',\n",
       " 'beyond',\n",
       " 'both',\n",
       " 'bottom',\n",
       " 'but',\n",
       " 'by',\n",
       " 'ca',\n",
       " 'call',\n",
       " 'can',\n",
       " 'cannot',\n",
       " 'could',\n",
       " 'did',\n",
       " 'do',\n",
       " 'does',\n",
       " 'doing',\n",
       " 'done',\n",
       " 'down',\n",
       " 'due',\n",
       " 'during',\n",
       " 'each',\n",
       " 'eight',\n",
       " 'either',\n",
       " 'eleven',\n",
       " 'else',\n",
       " 'elsewhere',\n",
       " 'empty',\n",
       " 'enough',\n",
       " 'even',\n",
       " 'ever',\n",
       " 'every',\n",
       " 'everyone',\n",
       " 'everything',\n",
       " 'everywhere',\n",
       " 'except',\n",
       " 'few',\n",
       " 'fifteen',\n",
       " 'fifty',\n",
       " 'first',\n",
       " 'five',\n",
       " 'for',\n",
       " 'former',\n",
       " 'formerly',\n",
       " 'forty',\n",
       " 'four',\n",
       " 'from',\n",
       " 'front',\n",
       " 'full',\n",
       " 'further',\n",
       " 'get',\n",
       " 'give',\n",
       " 'go',\n",
       " 'had',\n",
       " 'has',\n",
       " 'have',\n",
       " 'he',\n",
       " 'hence',\n",
       " 'her',\n",
       " 'here',\n",
       " 'hereafter',\n",
       " 'hereby',\n",
       " 'herein',\n",
       " 'hereupon',\n",
       " 'hers',\n",
       " 'herself',\n",
       " 'him',\n",
       " 'himself',\n",
       " 'his',\n",
       " 'how',\n",
       " 'however',\n",
       " 'hundred',\n",
       " 'i',\n",
       " 'if',\n",
       " 'in',\n",
       " 'indeed',\n",
       " 'into',\n",
       " 'is',\n",
       " 'it',\n",
       " 'its',\n",
       " 'itself',\n",
       " 'just',\n",
       " 'keep',\n",
       " 'last',\n",
       " 'latter',\n",
       " 'latterly',\n",
       " 'least',\n",
       " 'less',\n",
       " 'made',\n",
       " 'make',\n",
       " 'many',\n",
       " 'may',\n",
       " 'me',\n",
       " 'meanwhile',\n",
       " 'might',\n",
       " 'mine',\n",
       " 'more',\n",
       " 'moreover',\n",
       " 'most',\n",
       " 'mostly',\n",
       " 'move',\n",
       " 'much',\n",
       " 'must',\n",
       " 'my',\n",
       " 'myself',\n",
       " \"n't\",\n",
       " 'name',\n",
       " 'namely',\n",
       " 'neither',\n",
       " 'never',\n",
       " 'nevertheless',\n",
       " 'next',\n",
       " 'nine',\n",
       " 'no',\n",
       " 'nobody',\n",
       " 'none',\n",
       " 'noone',\n",
       " 'nor',\n",
       " 'not',\n",
       " 'nothing',\n",
       " 'now',\n",
       " 'nowhere',\n",
       " 'n‘t',\n",
       " 'n’t',\n",
       " 'of',\n",
       " 'off',\n",
       " 'often',\n",
       " 'on',\n",
       " 'once',\n",
       " 'one',\n",
       " 'only',\n",
       " 'onto',\n",
       " 'or',\n",
       " 'other',\n",
       " 'others',\n",
       " 'otherwise',\n",
       " 'our',\n",
       " 'ours',\n",
       " 'ourselves',\n",
       " 'out',\n",
       " 'over',\n",
       " 'own',\n",
       " 'part',\n",
       " 'per',\n",
       " 'perhaps',\n",
       " 'please',\n",
       " 'put',\n",
       " 'quite',\n",
       " 'rather',\n",
       " 're',\n",
       " 'really',\n",
       " 'regarding',\n",
       " 'same',\n",
       " 'say',\n",
       " 'see',\n",
       " 'seem',\n",
       " 'seemed',\n",
       " 'seeming',\n",
       " 'seems',\n",
       " 'serious',\n",
       " 'several',\n",
       " 'she',\n",
       " 'should',\n",
       " 'show',\n",
       " 'side',\n",
       " 'since',\n",
       " 'six',\n",
       " 'sixty',\n",
       " 'so',\n",
       " 'some',\n",
       " 'somehow',\n",
       " 'someone',\n",
       " 'something',\n",
       " 'sometime',\n",
       " 'sometimes',\n",
       " 'somewhere',\n",
       " 'still',\n",
       " 'such',\n",
       " 'take',\n",
       " 'ten',\n",
       " 'than',\n",
       " 'that',\n",
       " 'the',\n",
       " 'their',\n",
       " 'them',\n",
       " 'themselves',\n",
       " 'then',\n",
       " 'thence',\n",
       " 'there',\n",
       " 'thereafter',\n",
       " 'thereby',\n",
       " 'therefore',\n",
       " 'therein',\n",
       " 'thereupon',\n",
       " 'these',\n",
       " 'they',\n",
       " 'third',\n",
       " 'this',\n",
       " 'those',\n",
       " 'though',\n",
       " 'three',\n",
       " 'through',\n",
       " 'throughout',\n",
       " 'thru',\n",
       " 'thus',\n",
       " 'to',\n",
       " 'together',\n",
       " 'too',\n",
       " 'top',\n",
       " 'toward',\n",
       " 'towards',\n",
       " 'twelve',\n",
       " 'twenty',\n",
       " 'two',\n",
       " 'under',\n",
       " 'unless',\n",
       " 'until',\n",
       " 'up',\n",
       " 'upon',\n",
       " 'us',\n",
       " 'used',\n",
       " 'using',\n",
       " 'various',\n",
       " 'very',\n",
       " 'via',\n",
       " 'was',\n",
       " 'we',\n",
       " 'well',\n",
       " 'were',\n",
       " 'what',\n",
       " 'whatever',\n",
       " 'when',\n",
       " 'whence',\n",
       " 'whenever',\n",
       " 'where',\n",
       " 'whereafter',\n",
       " 'whereas',\n",
       " 'whereby',\n",
       " 'wherein',\n",
       " 'whereupon',\n",
       " 'wherever',\n",
       " 'whether',\n",
       " 'which',\n",
       " 'while',\n",
       " 'whither',\n",
       " 'who',\n",
       " 'whoever',\n",
       " 'whole',\n",
       " 'whom',\n",
       " 'whose',\n",
       " 'why',\n",
       " 'will',\n",
       " 'with',\n",
       " 'within',\n",
       " 'without',\n",
       " 'would',\n",
       " 'yet',\n",
       " 'you',\n",
       " 'your',\n",
       " 'yours',\n",
       " 'yourself',\n",
       " 'yourselves',\n",
       " '‘d',\n",
       " '‘ll',\n",
       " '‘m',\n",
       " '‘re',\n",
       " '‘s',\n",
       " '‘ve',\n",
       " '’d',\n",
       " '’ll',\n",
       " '’m',\n",
       " '’re',\n",
       " '’s',\n",
       " '’ve'}"
      ]
     },
     "execution_count": 47,
     "metadata": {},
     "output_type": "execute_result"
    }
   ],
   "source": [
    "stopwords = STOP_WORDS\n",
    "stopwords"
   ]
  },
  {
   "cell_type": "code",
   "execution_count": 49,
   "id": "c5cce47d-b70e-4cc5-8a48-951c372d796f",
   "metadata": {},
   "outputs": [],
   "source": [
    "nlp= spacy.load('en_core_web_sm')"
   ]
  },
  {
   "cell_type": "code",
   "execution_count": 51,
   "id": "4bb92530-75d6-49fc-a188-7fa9244818ef",
   "metadata": {},
   "outputs": [],
   "source": [
    "doc = nlp(text)"
   ]
  },
  {
   "cell_type": "code",
   "execution_count": 53,
   "id": "42ba53cc-e6d3-4111-b315-ab97fabb8018",
   "metadata": {},
   "outputs": [
    {
     "name": "stdout",
     "output_type": "stream",
     "text": [
      "['Natural', 'language', 'processing', '(', 'NLP', ')', 'is', 'a', 'field', 'of', 'computer', 'science', 'and', 'a', 'subfield', 'of', 'artificial', 'intelligence', 'that', 'aims', 'to', 'make', 'computers', 'understand', 'human', 'language', '.', 'NLP', 'uses', 'computational', 'linguistics', ',', 'which', 'is', 'the', 'study', 'of', 'how', 'language', 'works', ',', 'and', 'various', 'models', 'based', 'on', 'statistics', ',', 'machine', 'learning', ',', 'and', 'deep', 'learning', '.', 'These', 'technologies', 'allow', 'computers', 'to', 'analyze', 'and', 'process', 'text', 'or', 'voice', 'data', ',', 'and', 'to', 'grasp', 'their', 'full', 'meaning', ',', 'including', 'the', 'speaker', '’s', 'or', 'writer', '’s', 'intentions', 'and', 'emotions', '.', '\\n', 'NLP', 'powers', 'many', 'applications', 'that', 'use', 'language', ',', 'such', 'as', 'text', 'translation', ',', 'voice', 'recognition', ',', 'text', 'summarization', ',', 'and', 'chatbots', '.', 'You', 'may', 'have', 'used', 'some', 'of', 'these', 'applications', 'yourself', ',', 'such', 'as', 'voice', '-', 'operated', 'GPS', 'systems', ',', 'digital', 'assistants', ',', 'speech', '-', 'to', '-', 'text', 'software', ',', 'and', 'customer', 'service', 'bots', '.', 'NLP', 'also', 'helps', 'businesses', 'improve', 'their', 'efficiency', ',', 'productivity', ',', 'and', 'performance', 'by', 'simplifying', 'complex', 'tasks', 'that', 'involve', 'language', '.']\n"
     ]
    }
   ],
   "source": [
    "tokens = [token.text for token in doc]\n",
    "print(tokens)"
   ]
  },
  {
   "cell_type": "code",
   "execution_count": 55,
   "id": "c8ea1f5c-e76a-4fdf-88af-9a73e5fd7f11",
   "metadata": {},
   "outputs": [
    {
     "data": {
      "text/plain": [
       "'!\"#$%&\\'()*+,-./:;<=>?@[\\\\]^_`{|}~\\n'"
      ]
     },
     "execution_count": 55,
     "metadata": {},
     "output_type": "execute_result"
    }
   ],
   "source": [
    "punctuation=punctuation+'\\n'\n",
    "punctuation"
   ]
  },
  {
   "cell_type": "code",
   "execution_count": 62,
   "id": "4daa1e08-e329-4e2c-af03-8ac8d8b93e33",
   "metadata": {},
   "outputs": [],
   "source": [
    "word_frequencies= { }\n",
    "for word in doc:\n",
    "    if word.text.lower() not in stopwords:\n",
    "        if word.text.lower() not in punctuation:\n",
    "            if word.text not in word_frequencies.keys():\n",
    "                word_frequencies[word.text] = 1\n",
    "            else:\n",
    "                word_frequencies[word.text] += 1\n",
    "                "
   ]
  },
  {
   "cell_type": "code",
   "execution_count": 64,
   "id": "912e92d0-8c84-4df4-8519-6cfc819bee67",
   "metadata": {},
   "outputs": [
    {
     "name": "stdout",
     "output_type": "stream",
     "text": [
      "{'Natural': 1, 'language': 5, 'processing': 1, 'NLP': 4, 'field': 1, 'computer': 1, 'science': 1, 'subfield': 1, 'artificial': 1, 'intelligence': 1, 'aims': 1, 'computers': 2, 'understand': 1, 'human': 1, 'uses': 1, 'computational': 1, 'linguistics': 1, 'study': 1, 'works': 1, 'models': 1, 'based': 1, 'statistics': 1, 'machine': 1, 'learning': 2, 'deep': 1, 'technologies': 1, 'allow': 1, 'analyze': 1, 'process': 1, 'text': 4, 'voice': 3, 'data': 1, 'grasp': 1, 'meaning': 1, 'including': 1, 'speaker': 1, 'writer': 1, 'intentions': 1, 'emotions': 1, 'powers': 1, 'applications': 2, 'use': 1, 'translation': 1, 'recognition': 1, 'summarization': 1, 'chatbots': 1, 'operated': 1, 'GPS': 1, 'systems': 1, 'digital': 1, 'assistants': 1, 'speech': 1, 'software': 1, 'customer': 1, 'service': 1, 'bots': 1, 'helps': 1, 'businesses': 1, 'improve': 1, 'efficiency': 1, 'productivity': 1, 'performance': 1, 'simplifying': 1, 'complex': 1, 'tasks': 1, 'involve': 1}\n"
     ]
    }
   ],
   "source": [
    "print(word_frequencies)"
   ]
  },
  {
   "cell_type": "code",
   "execution_count": 66,
   "id": "64619c5a-b324-4270-a54c-b08431b91823",
   "metadata": {},
   "outputs": [],
   "source": [
    "max_frequency=max(word_frequencies.values())"
   ]
  },
  {
   "cell_type": "code",
   "execution_count": 68,
   "id": "4e7f8bf2-b79f-4004-a83f-fd524c1a7905",
   "metadata": {},
   "outputs": [
    {
     "data": {
      "text/plain": [
       "5"
      ]
     },
     "execution_count": 68,
     "metadata": {},
     "output_type": "execute_result"
    }
   ],
   "source": [
    "max_frequency"
   ]
  },
  {
   "cell_type": "code",
   "execution_count": 70,
   "id": "9ef2ebbd-a907-4676-b140-2d51887a895b",
   "metadata": {},
   "outputs": [],
   "source": [
    "for word in word_frequencies.keys():\n",
    "    word_frequencies[word]=word_frequencies[word]/max_frequency"
   ]
  },
  {
   "cell_type": "code",
   "execution_count": 72,
   "id": "f21d824c-69b8-4005-bf84-d41d29aff137",
   "metadata": {},
   "outputs": [
    {
     "name": "stdout",
     "output_type": "stream",
     "text": [
      "{'Natural': 0.2, 'language': 1.0, 'processing': 0.2, 'NLP': 0.8, 'field': 0.2, 'computer': 0.2, 'science': 0.2, 'subfield': 0.2, 'artificial': 0.2, 'intelligence': 0.2, 'aims': 0.2, 'computers': 0.4, 'understand': 0.2, 'human': 0.2, 'uses': 0.2, 'computational': 0.2, 'linguistics': 0.2, 'study': 0.2, 'works': 0.2, 'models': 0.2, 'based': 0.2, 'statistics': 0.2, 'machine': 0.2, 'learning': 0.4, 'deep': 0.2, 'technologies': 0.2, 'allow': 0.2, 'analyze': 0.2, 'process': 0.2, 'text': 0.8, 'voice': 0.6, 'data': 0.2, 'grasp': 0.2, 'meaning': 0.2, 'including': 0.2, 'speaker': 0.2, 'writer': 0.2, 'intentions': 0.2, 'emotions': 0.2, 'powers': 0.2, 'applications': 0.4, 'use': 0.2, 'translation': 0.2, 'recognition': 0.2, 'summarization': 0.2, 'chatbots': 0.2, 'operated': 0.2, 'GPS': 0.2, 'systems': 0.2, 'digital': 0.2, 'assistants': 0.2, 'speech': 0.2, 'software': 0.2, 'customer': 0.2, 'service': 0.2, 'bots': 0.2, 'helps': 0.2, 'businesses': 0.2, 'improve': 0.2, 'efficiency': 0.2, 'productivity': 0.2, 'performance': 0.2, 'simplifying': 0.2, 'complex': 0.2, 'tasks': 0.2, 'involve': 0.2}\n"
     ]
    }
   ],
   "source": [
    "print(word_frequencies)"
   ]
  },
  {
   "cell_type": "code",
   "execution_count": 76,
   "id": "39cd9cd2-ae68-4ad1-8e4c-ccc7be9aa409",
   "metadata": {},
   "outputs": [
    {
     "name": "stdout",
     "output_type": "stream",
     "text": [
      "[Natural language processing (NLP) is a field of computer science and a subfield of artificial intelligence that aims to make computers understand human language., NLP uses computational linguistics, which is the study of how language works, and various models based on statistics, machine learning, and deep learning., These technologies allow computers to analyze and process text or voice data, and to grasp their full meaning, including the speaker’s or writer’s intentions and emotions.\n",
      ", NLP powers many applications that use language, such as text translation, voice recognition, text summarization, and chatbots., You may have used some of these applications yourself, such as voice-operated GPS systems, digital assistants, speech-to-text software, and customer service bots., NLP also helps businesses improve their efficiency, productivity, and performance by simplifying complex tasks that involve language.]\n"
     ]
    }
   ],
   "source": [
    "sentence_tokens=[sent for sent in doc.sents]\n",
    "print(sentence_tokens)"
   ]
  },
  {
   "cell_type": "code",
   "execution_count": 96,
   "id": "e69392a9-9186-4438-813e-8507712196aa",
   "metadata": {},
   "outputs": [],
   "source": [
    "sentence_scores= {}\n",
    "for sent in sentence_tokens:\n",
    "    for word in sent:\n",
    "        if word.text.lower() in  word_frequencies.keys():\n",
    "            if sent not in sentence_scores.keys():\n",
    "                sentence_scores[sent] =   word_frequencies[word.text.lower()]\n",
    "            else:\n",
    "                sentence_scores[sent] +=  word_frequencies[word.text.lower()]"
   ]
  },
  {
   "cell_type": "code",
   "execution_count": 100,
   "id": "6411702f-afd2-41cf-b25f-13eae0651989",
   "metadata": {},
   "outputs": [
    {
     "name": "stdout",
     "output_type": "stream",
     "text": [
      "{Natural language processing (NLP) is a field of computer science and a subfield of artificial intelligence that aims to make computers understand human language.: 4.4, NLP uses computational linguistics, which is the study of how language works, and various models based on statistics, machine learning, and deep learning.: 3.8000000000000007, These technologies allow computers to analyze and process text or voice data, and to grasp their full meaning, including the speaker’s or writer’s intentions and emotions.\n",
      ": 4.200000000000001, NLP powers many applications that use language, such as text translation, voice recognition, text summarization, and chatbots.: 4.800000000000001, You may have used some of these applications yourself, such as voice-operated GPS systems, digital assistants, speech-to-text software, and customer service bots.: 3.6000000000000005, NLP also helps businesses improve their efficiency, productivity, and performance by simplifying complex tasks that involve language.: 3.0}\n"
     ]
    }
   ],
   "source": [
    "print(sentence_scores)"
   ]
  },
  {
   "cell_type": "code",
   "execution_count": 120,
   "id": "e646522b-130d-418e-b1af-1612b5c4b016",
   "metadata": {},
   "outputs": [],
   "source": [
    "from heapq import nlargest"
   ]
  },
  {
   "cell_type": "code",
   "execution_count": 140,
   "id": "1c21a011-7e49-42de-9e8f-90c159e496ea",
   "metadata": {},
   "outputs": [
    {
     "data": {
      "text/plain": [
       "1"
      ]
     },
     "execution_count": 140,
     "metadata": {},
     "output_type": "execute_result"
    }
   ],
   "source": [
    "select_length=int(len(sentence_tokens)*0.3)\n",
    "select_length"
   ]
  },
  {
   "cell_type": "code",
   "execution_count": 142,
   "id": "62309ad2-e574-44bf-9c83-2bb9b83f0c74",
   "metadata": {},
   "outputs": [
    {
     "data": {
      "text/plain": [
       "[NLP powers many applications that use language, such as text translation, voice recognition, text summarization, and chatbots.]"
      ]
     },
     "execution_count": 142,
     "metadata": {},
     "output_type": "execute_result"
    }
   ],
   "source": [
    "summary = nlargest(select_length, sentence_scores, key=sentence_scores.get)\n",
    "summary"
   ]
  },
  {
   "cell_type": "code",
   "execution_count": 144,
   "id": "98fa2687-bbbf-4f77-b897-55bb23de5b8e",
   "metadata": {},
   "outputs": [
    {
     "data": {
      "text/plain": [
       "['NLP powers many applications that use language, such as text translation, voice recognition, text summarization, and chatbots.']"
      ]
     },
     "execution_count": 144,
     "metadata": {},
     "output_type": "execute_result"
    }
   ],
   "source": [
    "final_summary=[word.text for word in summary]\n",
    "final_summary"
   ]
  },
  {
   "cell_type": "code",
   "execution_count": 146,
   "id": "07a3195d-d104-4451-a6e9-12df02b1f43b",
   "metadata": {},
   "outputs": [
    {
     "name": "stdout",
     "output_type": "stream",
     "text": [
      "NLP powers many applications that use language, such as text translation, voice recognition, text summarization, and chatbots.\n"
     ]
    }
   ],
   "source": [
    "summary=' '.join(final_summary)\n",
    "print(summary)"
   ]
  },
  {
   "cell_type": "code",
   "execution_count": 148,
   "id": "1e283e63-f8e0-46ba-a945-7af7998065c4",
   "metadata": {},
   "outputs": [
    {
     "name": "stdout",
     "output_type": "stream",
     "text": [
      "Natural language processing (NLP) is a field of computer science and a subfield of artificial intelligence that aims to make computers understand human language. NLP uses computational linguistics, which is the study of how language works, and various models based on statistics, machine learning, and deep learning. These technologies allow computers to analyze and process text or voice data, and to grasp their full meaning, including the speaker’s or writer’s intentions and emotions.\n",
      "NLP powers many applications that use language, such as text translation, voice recognition, text summarization, and chatbots. You may have used some of these applications yourself, such as voice-operated GPS systems, digital assistants, speech-to-text software, and customer service bots. NLP also helps businesses improve their efficiency, productivity, and performance by simplifying complex tasks that involve language.\n"
     ]
    }
   ],
   "source": [
    "print(text)"
   ]
  },
  {
   "cell_type": "code",
   "execution_count": 150,
   "id": "a44548fc-a6df-4076-93ac-1c861c5c1d6e",
   "metadata": {},
   "outputs": [
    {
     "name": "stdout",
     "output_type": "stream",
     "text": [
      "NLP powers many applications that use language, such as text translation, voice recognition, text summarization, and chatbots.\n"
     ]
    }
   ],
   "source": [
    "print(summary)"
   ]
  },
  {
   "cell_type": "code",
   "execution_count": null,
   "id": "86302645-be5e-45e0-bdf4-d9ab8653f73f",
   "metadata": {},
   "outputs": [],
   "source": []
  }
 ],
 "metadata": {
  "kernelspec": {
   "display_name": "Python [conda env:base] *",
   "language": "python",
   "name": "conda-base-py"
  },
  "language_info": {
   "codemirror_mode": {
    "name": "ipython",
    "version": 3
   },
   "file_extension": ".py",
   "mimetype": "text/x-python",
   "name": "python",
   "nbconvert_exporter": "python",
   "pygments_lexer": "ipython3",
   "version": "3.12.3"
  }
 },
 "nbformat": 4,
 "nbformat_minor": 5
}
